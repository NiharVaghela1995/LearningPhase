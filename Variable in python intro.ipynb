{
 "cells": [
  {
   "cell_type": "code",
   "execution_count": 1,
   "id": "f8d52dcf-9891-4d8b-8212-e0b8ec5ae73c",
   "metadata": {},
   "outputs": [
    {
     "data": {
      "text/plain": [
       "14"
      ]
     },
     "execution_count": 1,
     "metadata": {},
     "output_type": "execute_result"
    }
   ],
   "source": [
    "2*7"
   ]
  },
  {
   "cell_type": "code",
   "execution_count": 9,
   "id": "7f183f48-5f09-4fe0-9b94-b7e3bc694fb3",
   "metadata": {},
   "outputs": [
    {
     "data": {
      "text/plain": [
       "432434224"
      ]
     },
     "execution_count": 9,
     "metadata": {},
     "output_type": "execute_result"
    }
   ],
   "source": [
    "432434224"
   ]
  },
  {
   "cell_type": "code",
   "execution_count": 5,
   "id": "5fb96382-6bde-413e-8a5a-00a179cfff8c",
   "metadata": {},
   "outputs": [
    {
     "data": {
      "text/plain": [
       "490245"
      ]
     },
     "execution_count": 5,
     "metadata": {},
     "output_type": "execute_result"
    }
   ],
   "source": [
    "735*667"
   ]
  },
  {
   "cell_type": "code",
   "execution_count": 7,
   "id": "310bf49a-366f-452d-90af-d2d918f42adf",
   "metadata": {},
   "outputs": [
    {
     "data": {
      "text/plain": [
       "-98"
      ]
     },
     "execution_count": 7,
     "metadata": {},
     "output_type": "execute_result"
    }
   ],
   "source": [
    "1-99"
   ]
  },
  {
   "cell_type": "markdown",
   "id": "3cb9e89b-279e-4534-8134-d5857088e15a",
   "metadata": {},
   "source": [
    " Nihar"
   ]
  },
  {
   "cell_type": "code",
   "execution_count": 5,
   "id": "551b1ac4-a2ba-439a-b97f-32ea9368be0c",
   "metadata": {},
   "outputs": [],
   "source": [
    "Nihar = 10"
   ]
  },
  {
   "cell_type": "code",
   "execution_count": 7,
   "id": "edf7d6fa-cbfb-41d8-821a-873d4d085739",
   "metadata": {},
   "outputs": [
    {
     "data": {
      "text/plain": [
       "10"
      ]
     },
     "execution_count": 7,
     "metadata": {},
     "output_type": "execute_result"
    }
   ],
   "source": [
    "Nihar"
   ]
  },
  {
   "cell_type": "code",
   "execution_count": 11,
   "id": "c8a70b70-c584-4962-9fba-d63a2842f5e2",
   "metadata": {},
   "outputs": [
    {
     "data": {
      "text/plain": [
       "-7"
      ]
     },
     "execution_count": 11,
     "metadata": {},
     "output_type": "execute_result"
    }
   ],
   "source": [
    "Nihar-17"
   ]
  },
  {
   "cell_type": "code",
   "execution_count": 13,
   "id": "cc4b23ad-1f96-4926-861e-9a2c3549d603",
   "metadata": {},
   "outputs": [
    {
     "data": {
      "text/plain": [
       "int"
      ]
     },
     "execution_count": 13,
     "metadata": {},
     "output_type": "execute_result"
    }
   ],
   "source": [
    "type(Nihar)"
   ]
  },
  {
   "cell_type": "code",
   "execution_count": 15,
   "id": "695e3e7a-7b6a-4b6d-959b-b57cdcaefe48",
   "metadata": {},
   "outputs": [],
   "source": [
    "a=34.09"
   ]
  },
  {
   "cell_type": "code",
   "execution_count": 17,
   "id": "6fa3eb57-f8fe-4948-bbec-86f5f6e379c8",
   "metadata": {},
   "outputs": [
    {
     "data": {
      "text/plain": [
       "float"
      ]
     },
     "execution_count": 17,
     "metadata": {},
     "output_type": "execute_result"
    }
   ],
   "source": [
    "type(a)"
   ]
  },
  {
   "cell_type": "code",
   "execution_count": 19,
   "id": "69d5f27e-d104-419a-9ac0-b000fb7766bb",
   "metadata": {},
   "outputs": [],
   "source": [
    "b=\"this is my first class of phython.\""
   ]
  },
  {
   "cell_type": "code",
   "execution_count": 25,
   "id": "a351388a-dcd3-4f06-8d31-8545af42ac7b",
   "metadata": {},
   "outputs": [
    {
     "data": {
      "text/plain": [
       "str"
      ]
     },
     "execution_count": 25,
     "metadata": {},
     "output_type": "execute_result"
    }
   ],
   "source": [
    "type(b)"
   ]
  },
  {
   "cell_type": "code",
   "execution_count": 27,
   "id": "08208873-c06a-40dc-963a-2c4a6d47ef6f",
   "metadata": {},
   "outputs": [],
   "source": [
    "c=\"jbhj kjnjjk kllkm\""
   ]
  },
  {
   "cell_type": "code",
   "execution_count": 29,
   "id": "c5e44833-3ead-47e1-8a08-6bf79303ba2a",
   "metadata": {},
   "outputs": [
    {
     "data": {
      "text/plain": [
       "'jbhj kjnjjk kllkm'"
      ]
     },
     "execution_count": 29,
     "metadata": {},
     "output_type": "execute_result"
    }
   ],
   "source": [
    "c"
   ]
  },
  {
   "cell_type": "code",
   "execution_count": 31,
   "id": "5a9e15d6-2286-4ebe-96b8-ff7f56c09a8b",
   "metadata": {},
   "outputs": [],
   "source": [
    "d= True"
   ]
  },
  {
   "cell_type": "code",
   "execution_count": 33,
   "id": "d74c59d9-0241-446a-ba65-23241653d4a1",
   "metadata": {},
   "outputs": [
    {
     "data": {
      "text/plain": [
       "bool"
      ]
     },
     "execution_count": 33,
     "metadata": {},
     "output_type": "execute_result"
    }
   ],
   "source": [
    "type(d)"
   ]
  },
  {
   "cell_type": "code",
   "execution_count": 35,
   "id": "d372a76a-0bfd-4666-8e14-849bed22f132",
   "metadata": {},
   "outputs": [
    {
     "data": {
      "text/plain": [
       "1"
      ]
     },
     "execution_count": 35,
     "metadata": {},
     "output_type": "execute_result"
    }
   ],
   "source": [
    "True-False"
   ]
  },
  {
   "cell_type": "code",
   "execution_count": 37,
   "id": "73c73baf-c9a5-4c53-9def-c2911e67f674",
   "metadata": {},
   "outputs": [
    {
     "data": {
      "text/plain": [
       "0"
      ]
     },
     "execution_count": 37,
     "metadata": {},
     "output_type": "execute_result"
    }
   ],
   "source": [
    "True-True"
   ]
  },
  {
   "cell_type": "code",
   "execution_count": 39,
   "id": "33d0aa15-7816-4521-89b9-8add35ae5270",
   "metadata": {},
   "outputs": [
    {
     "data": {
      "text/plain": [
       "1"
      ]
     },
     "execution_count": 39,
     "metadata": {},
     "output_type": "execute_result"
    }
   ],
   "source": [
    "True*True"
   ]
  },
  {
   "cell_type": "code",
   "execution_count": 41,
   "id": "59b201c9-f153-44a3-ab5b-93d1d6aa9fb1",
   "metadata": {},
   "outputs": [
    {
     "ename": "ZeroDivisionError",
     "evalue": "division by zero",
     "output_type": "error",
     "traceback": [
      "\u001b[1;31m---------------------------------------------------------------------------\u001b[0m",
      "\u001b[1;31mZeroDivisionError\u001b[0m                         Traceback (most recent call last)",
      "Cell \u001b[1;32mIn[41], line 1\u001b[0m\n\u001b[1;32m----> 1\u001b[0m \u001b[38;5;28;01mTrue\u001b[39;00m\u001b[38;5;241m/\u001b[39m\u001b[38;5;28;01mFalse\u001b[39;00m\n",
      "\u001b[1;31mZeroDivisionError\u001b[0m: division by zero"
     ]
    }
   ],
   "source": [
    "True/False"
   ]
  },
  {
   "cell_type": "code",
   "execution_count": 47,
   "id": "d1dbc121-2a90-47c7-82ca-ddf481119bcd",
   "metadata": {},
   "outputs": [],
   "source": [
    "e=\"Numpy-Numerical python\""
   ]
  },
  {
   "cell_type": "code",
   "execution_count": 49,
   "id": "2a4e02af-04fe-4665-a3d2-463550d988b8",
   "metadata": {},
   "outputs": [
    {
     "data": {
      "text/plain": [
       "'Numpy-Numerical python'"
      ]
     },
     "execution_count": 49,
     "metadata": {},
     "output_type": "execute_result"
    }
   ],
   "source": [
    "e"
   ]
  },
  {
   "cell_type": "code",
   "execution_count": 53,
   "id": "58d1bc46-2405-4c0e-8d8e-f9bc8c1a2c73",
   "metadata": {},
   "outputs": [],
   "source": [
    "n=5+7j"
   ]
  },
  {
   "cell_type": "code",
   "execution_count": 57,
   "id": "df13469f-6498-431d-99e5-2f7c4d19775e",
   "metadata": {},
   "outputs": [
    {
     "data": {
      "text/plain": [
       "complex"
      ]
     },
     "execution_count": 57,
     "metadata": {},
     "output_type": "execute_result"
    }
   ],
   "source": [
    "type(n)"
   ]
  },
  {
   "cell_type": "code",
   "execution_count": 59,
   "id": "bc8a7855-b44c-4bf6-8377-242c8e472da8",
   "metadata": {},
   "outputs": [
    {
     "data": {
      "text/plain": [
       "(10+14j)"
      ]
     },
     "execution_count": 59,
     "metadata": {},
     "output_type": "execute_result"
    }
   ],
   "source": [
    "n+n"
   ]
  },
  {
   "cell_type": "code",
   "execution_count": 61,
   "id": "eee21377-c0fc-4f3d-b512-a46a8815e254",
   "metadata": {},
   "outputs": [
    {
     "data": {
      "text/plain": [
       "(5+7j)"
      ]
     },
     "execution_count": 61,
     "metadata": {},
     "output_type": "execute_result"
    }
   ],
   "source": [
    "n"
   ]
  },
  {
   "cell_type": "code",
   "execution_count": 63,
   "id": "466de006-5944-400e-8068-283fe3d147f4",
   "metadata": {},
   "outputs": [
    {
     "data": {
      "text/plain": [
       "0.0"
      ]
     },
     "execution_count": 63,
     "metadata": {},
     "output_type": "execute_result"
    }
   ],
   "source": [
    "0/1"
   ]
  },
  {
   "cell_type": "code",
   "execution_count": 65,
   "id": "4a391267-d614-4cc5-a35a-805c75add617",
   "metadata": {},
   "outputs": [
    {
     "data": {
      "text/plain": [
       "(-24+70j)"
      ]
     },
     "execution_count": 65,
     "metadata": {},
     "output_type": "execute_result"
    }
   ],
   "source": [
    "n*n"
   ]
  },
  {
   "cell_type": "code",
   "execution_count": 67,
   "id": "145ad6c3-1619-4766-a260-b89689eb71d0",
   "metadata": {},
   "outputs": [
    {
     "data": {
      "text/plain": [
       "7.0"
      ]
     },
     "execution_count": 67,
     "metadata": {},
     "output_type": "execute_result"
    }
   ],
   "source": [
    "n.imag"
   ]
  },
  {
   "cell_type": "code",
   "execution_count": 69,
   "id": "1ec201de-62f1-48e7-a030-39db5c372069",
   "metadata": {},
   "outputs": [
    {
     "data": {
      "text/plain": [
       "5.0"
      ]
     },
     "execution_count": 69,
     "metadata": {},
     "output_type": "execute_result"
    }
   ],
   "source": [
    "n.real"
   ]
  },
  {
   "cell_type": "code",
   "execution_count": 71,
   "id": "1ea8b419-5831-4f6c-88d1-d3989873f700",
   "metadata": {},
   "outputs": [
    {
     "data": {
      "text/plain": [
       "<function complex.conjugate()>"
      ]
     },
     "execution_count": 71,
     "metadata": {},
     "output_type": "execute_result"
    }
   ],
   "source": [
    "n.conjugate"
   ]
  },
  {
   "cell_type": "code",
   "execution_count": 77,
   "id": "e10dd3fa-fa48-4982-82f2-54363240a95f",
   "metadata": {},
   "outputs": [],
   "source": [
    "b= \"This is my first phython class\""
   ]
  },
  {
   "cell_type": "code",
   "execution_count": 79,
   "id": "b0e9880d-ca2f-43a2-b88d-ea220d663e73",
   "metadata": {},
   "outputs": [
    {
     "data": {
      "text/plain": [
       "'This is my first phython class'"
      ]
     },
     "execution_count": 79,
     "metadata": {},
     "output_type": "execute_result"
    }
   ],
   "source": [
    "b"
   ]
  },
  {
   "cell_type": "code",
   "execution_count": 81,
   "id": "7cc82a01-b797-4b69-9d9a-db6b0203cc4f",
   "metadata": {},
   "outputs": [
    {
     "data": {
      "text/plain": [
       "str"
      ]
     },
     "execution_count": 81,
     "metadata": {},
     "output_type": "execute_result"
    }
   ],
   "source": [
    "type(b)"
   ]
  },
  {
   "cell_type": "code",
   "execution_count": null,
   "id": "5ac76f36-3948-48f3-bad1-250484c9fe16",
   "metadata": {},
   "outputs": [],
   "source": [
    "b."
   ]
  },
  {
   "cell_type": "code",
   "execution_count": 93,
   "id": "7952ca5c-d080-4c5e-b14b-57d387328814",
   "metadata": {},
   "outputs": [],
   "source": [
    "l=[3,4.56,\"Nihar\",True,7+8j]"
   ]
  },
  {
   "cell_type": "code",
   "execution_count": 95,
   "id": "187e8dff-d69d-414a-8af3-77110ed4e7c4",
   "metadata": {},
   "outputs": [
    {
     "data": {
      "text/plain": [
       "list"
      ]
     },
     "execution_count": 95,
     "metadata": {},
     "output_type": "execute_result"
    }
   ],
   "source": [
    "type(l)"
   ]
  },
  {
   "cell_type": "code",
   "execution_count": 97,
   "id": "451ad32b-ce9d-4033-ad66-f5a20299617f",
   "metadata": {},
   "outputs": [
    {
     "data": {
      "text/plain": [
       "4.56"
      ]
     },
     "execution_count": 97,
     "metadata": {},
     "output_type": "execute_result"
    }
   ],
   "source": [
    "l[1]"
   ]
  },
  {
   "cell_type": "code",
   "execution_count": 99,
   "id": "2b980fc1-2f80-4342-853b-af71f0e3b113",
   "metadata": {},
   "outputs": [],
   "source": [
    "t=(3,4.56,\"Nihar\",True,7+8j)"
   ]
  },
  {
   "cell_type": "code",
   "execution_count": 101,
   "id": "5378ea9e-1cdc-4da9-9a6e-00aa4021bde6",
   "metadata": {},
   "outputs": [
    {
     "data": {
      "text/plain": [
       "tuple"
      ]
     },
     "execution_count": 101,
     "metadata": {},
     "output_type": "execute_result"
    }
   ],
   "source": [
    "type(t)"
   ]
  },
  {
   "cell_type": "code",
   "execution_count": 113,
   "id": "c16c5520-b273-426d-ac28-7741c162cbc7",
   "metadata": {},
   "outputs": [],
   "source": [
    "z={\"a\":\"Nihar\",\"b\":\"Rajeshkumar\",\"c\":\"Vaghela\"}"
   ]
  },
  {
   "cell_type": "code",
   "execution_count": 105,
   "id": "295824f3-cb6f-43a3-ac89-a640e89299a9",
   "metadata": {},
   "outputs": [
    {
     "data": {
      "text/plain": [
       "dict"
      ]
     },
     "execution_count": 105,
     "metadata": {},
     "output_type": "execute_result"
    }
   ],
   "source": [
    "type(z)"
   ]
  },
  {
   "cell_type": "code",
   "execution_count": 107,
   "id": "9a89f06f-4e9f-432c-9b75-de1cde9bf79a",
   "metadata": {},
   "outputs": [],
   "source": [
    "s={4,5,6,7,8}"
   ]
  },
  {
   "cell_type": "code",
   "execution_count": 109,
   "id": "e7ff4162-752b-41ad-8ccf-a2c1086cbfee",
   "metadata": {},
   "outputs": [
    {
     "data": {
      "text/plain": [
       "set"
      ]
     },
     "execution_count": 109,
     "metadata": {},
     "output_type": "execute_result"
    }
   ],
   "source": [
    "type(s)"
   ]
  },
  {
   "cell_type": "code",
   "execution_count": 115,
   "id": "a7595399-a814-4d13-b3be-48656f57a6fc",
   "metadata": {},
   "outputs": [
    {
     "ename": "NameError",
     "evalue": "name 'w' is not defined",
     "output_type": "error",
     "traceback": [
      "\u001b[1;31m---------------------------------------------------------------------------\u001b[0m",
      "\u001b[1;31mNameError\u001b[0m                                 Traceback (most recent call last)",
      "Cell \u001b[1;32mIn[115], line 1\u001b[0m\n\u001b[1;32m----> 1\u001b[0m w\n",
      "\u001b[1;31mNameError\u001b[0m: name 'w' is not defined"
     ]
    }
   ],
   "source": [
    "w"
   ]
  },
  {
   "cell_type": "code",
   "execution_count": null,
   "id": "6890b1e0-306f-4830-9f4f-2b042442dfb6",
   "metadata": {},
   "outputs": [],
   "source": []
  }
 ],
 "metadata": {
  "kernelspec": {
   "display_name": "Python 3 (ipykernel)",
   "language": "python",
   "name": "python3"
  },
  "language_info": {
   "codemirror_mode": {
    "name": "ipython",
    "version": 3
   },
   "file_extension": ".py",
   "mimetype": "text/x-python",
   "name": "python",
   "nbconvert_exporter": "python",
   "pygments_lexer": "ipython3",
   "version": "3.12.7"
  }
 },
 "nbformat": 4,
 "nbformat_minor": 5
}
