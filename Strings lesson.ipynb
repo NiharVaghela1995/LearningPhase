{
 "cells": [
  {
   "cell_type": "code",
   "execution_count": 25,
   "id": "5e699eba-e4cd-453f-a257-4cd883131b02",
   "metadata": {},
   "outputs": [],
   "source": [
    "i=\"Nihar Vaghela\""
   ]
  },
  {
   "cell_type": "code",
   "execution_count": 27,
   "id": "13a48574-0669-4fa5-a8eb-6a5bde1c1952",
   "metadata": {},
   "outputs": [
    {
     "data": {
      "text/plain": [
       "'Nihar Vaghela'"
      ]
     },
     "execution_count": 27,
     "metadata": {},
     "output_type": "execute_result"
    }
   ],
   "source": [
    "i"
   ]
  },
  {
   "cell_type": "code",
   "execution_count": 7,
   "id": "6426d754-9cd9-4c38-ad7f-a79c3f723251",
   "metadata": {},
   "outputs": [
    {
     "data": {
      "text/plain": [
       "str"
      ]
     },
     "execution_count": 7,
     "metadata": {},
     "output_type": "execute_result"
    }
   ],
   "source": [
    "type(i)"
   ]
  },
  {
   "cell_type": "code",
   "execution_count": 15,
   "id": "6ece3539-3f33-4142-9894-d57ded59c1d7",
   "metadata": {},
   "outputs": [
    {
     "data": {
      "text/plain": [
       "'V'"
      ]
     },
     "execution_count": 15,
     "metadata": {},
     "output_type": "execute_result"
    }
   ],
   "source": [
    "i[6]"
   ]
  },
  {
   "cell_type": "code",
   "execution_count": 17,
   "id": "54e9063d-aa62-4cdb-b9f4-97b3093245d7",
   "metadata": {},
   "outputs": [
    {
     "data": {
      "text/plain": [
       "'h'"
      ]
     },
     "execution_count": 17,
     "metadata": {},
     "output_type": "execute_result"
    }
   ],
   "source": [
    "i[-4]"
   ]
  },
  {
   "cell_type": "code",
   "execution_count": 3,
   "id": "ae08fe14-b5f3-47f5-ad91-c45ea9e94739",
   "metadata": {},
   "outputs": [],
   "source": [
    "o=\"this is my first programming class's\""
   ]
  },
  {
   "cell_type": "code",
   "execution_count": 1,
   "id": "b7aa6763-cf1d-4f51-b49c-ca1f2119e6d4",
   "metadata": {},
   "outputs": [
    {
     "ename": "SyntaxError",
     "evalue": "unterminated string literal (detected at line 1) (1320629847.py, line 1)",
     "output_type": "error",
     "traceback": [
      "\u001b[1;36m  Cell \u001b[1;32mIn[1], line 1\u001b[1;36m\u001b[0m\n\u001b[1;33m    o='this is my first programming class's'\u001b[0m\n\u001b[1;37m                                           ^\u001b[0m\n\u001b[1;31mSyntaxError\u001b[0m\u001b[1;31m:\u001b[0m unterminated string literal (detected at line 1)\n"
     ]
    }
   ],
   "source": [
    "o='this is my first programming class's'"
   ]
  },
  {
   "cell_type": "code",
   "execution_count": 5,
   "id": "785a97bd-4efb-4b9f-a0d0-93f6c4474fec",
   "metadata": {},
   "outputs": [
    {
     "data": {
      "text/plain": [
       "\"this is my first programming class's\""
      ]
     },
     "execution_count": 5,
     "metadata": {},
     "output_type": "execute_result"
    }
   ],
   "source": [
    "o"
   ]
  },
  {
   "cell_type": "code",
   "execution_count": 35,
   "id": "e36d691b-65b4-41c8-823e-5b040b78f09c",
   "metadata": {},
   "outputs": [
    {
     "data": {
      "text/plain": [
       "'p'"
      ]
     },
     "execution_count": 35,
     "metadata": {},
     "output_type": "execute_result"
    }
   ],
   "source": [
    "o[17]"
   ]
  },
  {
   "cell_type": "code",
   "execution_count": 41,
   "id": "2881f863-5aaf-4483-94c1-809bf63ce153",
   "metadata": {},
   "outputs": [
    {
     "data": {
      "text/plain": [
       "'is my first program'"
      ]
     },
     "execution_count": 41,
     "metadata": {},
     "output_type": "execute_result"
    }
   ],
   "source": [
    "o[5:24]"
   ]
  },
  {
   "cell_type": "code",
   "execution_count": 45,
   "id": "567fb1f6-90f9-4cf1-ba1d-66ad54447928",
   "metadata": {},
   "outputs": [
    {
     "data": {
      "text/plain": [
       "'i yfrtporm'"
      ]
     },
     "execution_count": 45,
     "metadata": {},
     "output_type": "execute_result"
    }
   ],
   "source": [
    "o[5:24:2]"
   ]
  },
  {
   "cell_type": "code",
   "execution_count": 59,
   "id": "6adf2979-a4da-4f3c-b1f8-07a4487616c0",
   "metadata": {},
   "outputs": [
    {
     "data": {
      "text/plain": [
       "'Nihar Vaghela'"
      ]
     },
     "execution_count": 59,
     "metadata": {},
     "output_type": "execute_result"
    }
   ],
   "source": [
    "i[0:13:1]"
   ]
  },
  {
   "cell_type": "code",
   "execution_count": 62,
   "id": "f13caa68-5ca0-487a-830b-8f6dd9694b40",
   "metadata": {},
   "outputs": [
    {
     "data": {
      "text/plain": [
       "''"
      ]
     },
     "execution_count": 62,
     "metadata": {},
     "output_type": "execute_result"
    }
   ],
   "source": [
    "i[2:9:-1]"
   ]
  },
  {
   "cell_type": "code",
   "execution_count": 64,
   "id": "84f48e4f-9597-49d1-a056-46c28eea8764",
   "metadata": {},
   "outputs": [
    {
     "data": {
      "text/plain": [
       "'lehgaV'"
      ]
     },
     "execution_count": 64,
     "metadata": {},
     "output_type": "execute_result"
    }
   ],
   "source": [
    "i[-2:-8:-1]"
   ]
  },
  {
   "cell_type": "code",
   "execution_count": 66,
   "id": "cfed9a12-29ff-4694-acac-b2faa87d61f7",
   "metadata": {},
   "outputs": [
    {
     "data": {
      "text/plain": [
       "'gaV rahi'"
      ]
     },
     "execution_count": 66,
     "metadata": {},
     "output_type": "execute_result"
    }
   ],
   "source": [
    "i[8:0:-1]"
   ]
  },
  {
   "cell_type": "code",
   "execution_count": 70,
   "id": "e396fae5-ab3f-474e-88eb-8a2e0fa5ba77",
   "metadata": {},
   "outputs": [
    {
     "data": {
      "text/plain": [
       "'Nihar Va'"
      ]
     },
     "execution_count": 70,
     "metadata": {},
     "output_type": "execute_result"
    }
   ],
   "source": [
    "i[:-5]"
   ]
  },
  {
   "cell_type": "code",
   "execution_count": 11,
   "id": "06ddc826-ea1b-4f51-9549-061170765bf4",
   "metadata": {},
   "outputs": [
    {
     "data": {
      "text/plain": [
       "'Nihar Va'"
      ]
     },
     "execution_count": 11,
     "metadata": {},
     "output_type": "execute_result"
    }
   ],
   "source": [
    "i[0:-5]"
   ]
  },
  {
   "cell_type": "code",
   "execution_count": 72,
   "id": "bcf4f672-a4b0-4ba1-8c02-660b6453851d",
   "metadata": {},
   "outputs": [
    {
     "data": {
      "text/plain": [
       "'ghela'"
      ]
     },
     "execution_count": 72,
     "metadata": {},
     "output_type": "execute_result"
    }
   ],
   "source": [
    "i[-5:]"
   ]
  },
  {
   "cell_type": "code",
   "execution_count": 74,
   "id": "b32abe9b-be2f-49c2-bf95-2c809fc60b56",
   "metadata": {},
   "outputs": [
    {
     "data": {
      "text/plain": [
       "'Nihar Vaghela'"
      ]
     },
     "execution_count": 74,
     "metadata": {},
     "output_type": "execute_result"
    }
   ],
   "source": [
    "i[::1]"
   ]
  },
  {
   "cell_type": "code",
   "execution_count": 76,
   "id": "ed7d9972-dfff-462f-9b0a-79000072bfa3",
   "metadata": {},
   "outputs": [
    {
     "data": {
      "text/plain": [
       "'alehgaV rahiN'"
      ]
     },
     "execution_count": 76,
     "metadata": {},
     "output_type": "execute_result"
    }
   ],
   "source": [
    "i[::-1]"
   ]
  },
  {
   "cell_type": "code",
   "execution_count": 78,
   "id": "9a2079d3-c73e-4612-a4f9-f2330b243f91",
   "metadata": {},
   "outputs": [
    {
     "data": {
      "text/plain": [
       "\"s'ssalc gnimmargorp tsrif ym si siht\""
      ]
     },
     "execution_count": 78,
     "metadata": {},
     "output_type": "execute_result"
    }
   ],
   "source": [
    "o[::-1]"
   ]
  },
  {
   "cell_type": "code",
   "execution_count": 80,
   "id": "5def1be5-0da8-493e-b4b6-4a961c33b755",
   "metadata": {},
   "outputs": [
    {
     "data": {
      "text/plain": [
       "''"
      ]
     },
     "execution_count": 80,
     "metadata": {},
     "output_type": "execute_result"
    }
   ],
   "source": [
    "o[-2:-9:1]"
   ]
  },
  {
   "cell_type": "code",
   "execution_count": 82,
   "id": "b2776e3d-5b80-4446-8e96-89488c2c0264",
   "metadata": {},
   "outputs": [
    {
     "data": {
      "text/plain": [
       "\"'ssalc \""
      ]
     },
     "execution_count": 82,
     "metadata": {},
     "output_type": "execute_result"
    }
   ],
   "source": [
    "o[-2:-9:-1]"
   ]
  },
  {
   "cell_type": "code",
   "execution_count": 87,
   "id": "a3b235b2-b3da-44d3-8f80-151a2bc21e08",
   "metadata": {},
   "outputs": [
    {
     "data": {
      "text/plain": [
       "''"
      ]
     },
     "execution_count": 87,
     "metadata": {},
     "output_type": "execute_result"
    }
   ],
   "source": [
    "o[15:0]"
   ]
  },
  {
   "cell_type": "code",
   "execution_count": 89,
   "id": "5f7ff5a3-e406-44b9-b5f4-7da5507ddcbc",
   "metadata": {},
   "outputs": [
    {
     "data": {
      "text/plain": [
       "''"
      ]
     },
     "execution_count": 89,
     "metadata": {},
     "output_type": "execute_result"
    }
   ],
   "source": [
    "o[:-1:-1]"
   ]
  },
  {
   "cell_type": "code",
   "execution_count": 93,
   "id": "3b0eedd0-a91b-461c-9d12-bc4a01d2ad74",
   "metadata": {},
   "outputs": [
    {
     "data": {
      "text/plain": [
       "\"Nihar Vaghelathis is my first programming class's\""
      ]
     },
     "execution_count": 93,
     "metadata": {},
     "output_type": "execute_result"
    }
   ],
   "source": [
    "i + o"
   ]
  },
  {
   "cell_type": "code",
   "execution_count": 95,
   "id": "ed6da15a-470e-43eb-83de-353d6f4f38ec",
   "metadata": {},
   "outputs": [
    {
     "data": {
      "text/plain": [
       "'Nihar Vaghela1'"
      ]
     },
     "execution_count": 95,
     "metadata": {},
     "output_type": "execute_result"
    }
   ],
   "source": [
    "i+str(1)"
   ]
  },
  {
   "cell_type": "code",
   "execution_count": 97,
   "id": "204e838d-37a3-46d7-9195-fd6c8ec717aa",
   "metadata": {},
   "outputs": [
    {
     "ename": "TypeError",
     "evalue": "can only concatenate str (not \"int\") to str",
     "output_type": "error",
     "traceback": [
      "\u001b[1;31m---------------------------------------------------------------------------\u001b[0m",
      "\u001b[1;31mTypeError\u001b[0m                                 Traceback (most recent call last)",
      "Cell \u001b[1;32mIn[97], line 1\u001b[0m\n\u001b[1;32m----> 1\u001b[0m \u001b[38;5;124m\"\u001b[39m\u001b[38;5;124mNihar\u001b[39m\u001b[38;5;124m\"\u001b[39m\u001b[38;5;241m+\u001b[39m\u001b[38;5;241m65558\u001b[39m\n",
      "\u001b[1;31mTypeError\u001b[0m: can only concatenate str (not \"int\") to str"
     ]
    }
   ],
   "source": [
    "\"Nihar\"+65558"
   ]
  },
  {
   "cell_type": "code",
   "execution_count": 101,
   "id": "3fdb8a1a-4158-4e54-a408-5b6871776040",
   "metadata": {},
   "outputs": [
    {
     "data": {
      "text/plain": [
       "'Nihar65558'"
      ]
     },
     "execution_count": 101,
     "metadata": {},
     "output_type": "execute_result"
    }
   ],
   "source": [
    "\"Nihar\"+ \"65558\""
   ]
  },
  {
   "cell_type": "code",
   "execution_count": 103,
   "id": "8edbe57a-b9c1-4468-b288-aa8229b5df9d",
   "metadata": {},
   "outputs": [
    {
     "data": {
      "text/plain": [
       "13"
      ]
     },
     "execution_count": 103,
     "metadata": {},
     "output_type": "execute_result"
    }
   ],
   "source": [
    "len(i)"
   ]
  },
  {
   "cell_type": "code",
   "execution_count": 105,
   "id": "e9b117cd-f8d3-4697-bead-7a8878ecc373",
   "metadata": {},
   "outputs": [
    {
     "data": {
      "text/plain": [
       "'Nihar VaghelaNihar Vaghela'"
      ]
     },
     "execution_count": 105,
     "metadata": {},
     "output_type": "execute_result"
    }
   ],
   "source": [
    "i*2"
   ]
  },
  {
   "cell_type": "code",
   "execution_count": 41,
   "id": "9d973b39-4960-4832-9458-1603219b32cd",
   "metadata": {},
   "outputs": [
    {
     "data": {
      "text/plain": [
       "3"
      ]
     },
     "execution_count": 41,
     "metadata": {},
     "output_type": "execute_result"
    }
   ],
   "source": [
    "i.count(\"a\")"
   ]
  },
  {
   "cell_type": "code",
   "execution_count": 45,
   "id": "2f65d7aa-dea0-4c21-a0f2-cb46476bc8a2",
   "metadata": {},
   "outputs": [
    {
     "data": {
      "text/plain": [
       "['Nihar ', 'aghela']"
      ]
     },
     "execution_count": 45,
     "metadata": {},
     "output_type": "execute_result"
    }
   ],
   "source": [
    "i.split(\"V\")"
   ]
  },
  {
   "cell_type": "code",
   "execution_count": 43,
   "id": "f87460ac-bacf-4ee7-b307-3d83c2bcbb89",
   "metadata": {},
   "outputs": [
    {
     "data": {
      "text/plain": [
       "list"
      ]
     },
     "execution_count": 43,
     "metadata": {},
     "output_type": "execute_result"
    }
   ],
   "source": [
    "type(i.split(\"V\"))"
   ]
  },
  {
   "cell_type": "code",
   "execution_count": 142,
   "id": "2c07270a-95d7-434d-be18-677a1231894b",
   "metadata": {},
   "outputs": [],
   "source": [
    "sw= \"Samsung Electronics Co., Ltd. (SEC; stylised as SΛMSUNG; Korean: 삼성전자; RR: Samseong Jeonja; lit. Tristar Electronics) is a South Korean multinational major appliance and consumer electronics corporation founded on 13 January 1969 and headquartered in Yeongtong District, Suwon, South Korea.[1] It is currently the pinnacle of the Samsung chaebol, accounting for 70% of the group's revenue in 2012,[4] and has played a key role in the group's corporate governance due to cross ownership.[5] It is majority-owned by foreign investors.\""
   ]
  },
  {
   "cell_type": "code",
   "execution_count": 146,
   "id": "a3b1190c-e4f7-4dd2-a8e0-73a68ccd8c60",
   "metadata": {},
   "outputs": [
    {
     "data": {
      "text/plain": [
       "\"Samsung Electronics Co., Ltd. (SEC; stylised as SΛMSUNG; Korean: 삼성전자; RR: Samseong Jeonja; lit. Tristar Electronics) is a South Korean multinational major appliance and consumer electronics corporation founded on 13 January 1969 and headquartered in Yeongtong District, Suwon, South Korea.[1] It is currently the pinnacle of the Samsung chaebol, accounting for 70% of the group's revenue in 2012,[4] and has played a key role in the group's corporate governance due to cross ownership.[5] It is majority-owned by foreign investors.\""
      ]
     },
     "execution_count": 146,
     "metadata": {},
     "output_type": "execute_result"
    }
   ],
   "source": [
    "sw"
   ]
  },
  {
   "cell_type": "code",
   "execution_count": 144,
   "id": "45c44863-6cd8-4dbf-b616-8fa5d32ba098",
   "metadata": {},
   "outputs": [
    {
     "data": {
      "text/plain": [
       "['Samsung',\n",
       " 'Electronics',\n",
       " 'Co.,',\n",
       " 'Ltd.',\n",
       " '(SEC;',\n",
       " 'stylised',\n",
       " 'as',\n",
       " 'SΛMSUNG;',\n",
       " 'Korean:',\n",
       " '삼성전자;',\n",
       " 'RR:',\n",
       " 'Samseong',\n",
       " 'Jeonja;',\n",
       " 'lit.',\n",
       " 'Tristar',\n",
       " 'Electronics)',\n",
       " 'is',\n",
       " 'a',\n",
       " 'South',\n",
       " 'Korean',\n",
       " 'multinational',\n",
       " 'major',\n",
       " 'appliance',\n",
       " 'and',\n",
       " 'consumer',\n",
       " 'electronics',\n",
       " 'corporation',\n",
       " 'founded',\n",
       " 'on',\n",
       " '13',\n",
       " 'January',\n",
       " '1969',\n",
       " 'and',\n",
       " 'headquartered',\n",
       " 'in',\n",
       " 'Yeongtong',\n",
       " 'District,',\n",
       " 'Suwon,',\n",
       " 'South',\n",
       " 'Korea.[1]',\n",
       " 'It',\n",
       " 'is',\n",
       " 'currently',\n",
       " 'the',\n",
       " 'pinnacle',\n",
       " 'of',\n",
       " 'the',\n",
       " 'Samsung',\n",
       " 'chaebol,',\n",
       " 'accounting',\n",
       " 'for',\n",
       " '70%',\n",
       " 'of',\n",
       " 'the',\n",
       " \"group's\",\n",
       " 'revenue',\n",
       " 'in',\n",
       " '2012,[4]',\n",
       " 'and',\n",
       " 'has',\n",
       " 'played',\n",
       " 'a',\n",
       " 'key',\n",
       " 'role',\n",
       " 'in',\n",
       " 'the',\n",
       " \"group's\",\n",
       " 'corporate',\n",
       " 'governance',\n",
       " 'due',\n",
       " 'to',\n",
       " 'cross',\n",
       " 'ownership.[5]',\n",
       " 'It',\n",
       " 'is',\n",
       " 'majority-owned',\n",
       " 'by',\n",
       " 'foreign',\n",
       " 'investors.']"
      ]
     },
     "execution_count": 144,
     "metadata": {},
     "output_type": "execute_result"
    }
   ],
   "source": [
    "sw.split(\" \")"
   ]
  },
  {
   "cell_type": "code",
   "execution_count": 150,
   "id": "b501010a-2682-49d4-b153-a96eaaff0029",
   "metadata": {},
   "outputs": [],
   "source": [
    "sw1=\"\"\"As of 2019, Samsung Electronics is the world's second-largest technology company by revenue, and its market capitalization stood at US$520.65 billion, the 12th largest in the world.[8] It ranks as the world's largest manufacturer of smartphones since 2011 — starting with the original Samsung Solstice, and most notably its Samsung Galaxy brand and its flagship Galaxy S series — and has also been the largest television manufacturer since 2006,[9][10] both of which include related software and services like Samsung Pay and TV Plus. The company pioneered the phablet form factor with the Galaxy Note family.[11] Samsung is also a major vendor of washing machines, refrigerators, computer monitors and soundbars.[12]\n",
    "\n",
    "Samsung Electronics is also a major manufacturer of electronic components such as lithium-ion batteries, semiconductors, image sensors, camera modules, and displays for clients such as Apple, Sony, HTC, and Nokia.[13][14] It is also the world's largest semiconductor memory manufacturer[15] and from 2017 to 2018, was the largest semiconductor company in the world, briefly dethroning Intel, the decades-long champion.[16] Samsung Electronics has assembly plants and sales networks in 76 countries and employs more than 260,000 people.\"\"\""
   ]
  },
  {
   "cell_type": "code",
   "execution_count": 152,
   "id": "4552c92b-7b6d-4625-98d2-1e3aefc08c58",
   "metadata": {},
   "outputs": [
    {
     "data": {
      "text/plain": [
       "\"As of 2019, Samsung Electronics is the world's second-largest technology company by revenue, and its market capitalization stood at US$520.65 billion, the 12th largest in the world.[8] It ranks as the world's largest manufacturer of smartphones since 2011 — starting with the original Samsung Solstice, and most notably its Samsung Galaxy brand and its flagship Galaxy S series — and has also been the largest television manufacturer since 2006,[9][10] both of which include related software and services like Samsung Pay and TV Plus. The company pioneered the phablet form factor with the Galaxy Note family.[11] Samsung is also a major vendor of washing machines, refrigerators, computer monitors and soundbars.[12]\\n\\nSamsung Electronics is also a major manufacturer of electronic components such as lithium-ion batteries, semiconductors, image sensors, camera modules, and displays for clients such as Apple, Sony, HTC, and Nokia.[13][14] It is also the world's largest semiconductor memory manufacturer[15] and from 2017 to 2018, was the largest semiconductor company in the world, briefly dethroning Intel, the decades-long champion.[16] Samsung Electronics has assembly plants and sales networks in 76 countries and employs more than 260,000 people.\""
      ]
     },
     "execution_count": 152,
     "metadata": {},
     "output_type": "execute_result"
    }
   ],
   "source": [
    "sw1"
   ]
  },
  {
   "cell_type": "code",
   "execution_count": 154,
   "id": "f41a735f-9441-41b2-8f6d-3794df656010",
   "metadata": {},
   "outputs": [
    {
     "data": {
      "text/plain": [
       "'NIHAR VAGHELA'"
      ]
     },
     "execution_count": 154,
     "metadata": {},
     "output_type": "execute_result"
    }
   ],
   "source": [
    "i.upper()"
   ]
  },
  {
   "cell_type": "code",
   "execution_count": 156,
   "id": "64973b97-7538-4e28-b3bd-b96f0e206eb5",
   "metadata": {},
   "outputs": [
    {
     "data": {
      "text/plain": [
       "'nihar vaghela'"
      ]
     },
     "execution_count": 156,
     "metadata": {},
     "output_type": "execute_result"
    }
   ],
   "source": [
    "i.lower()"
   ]
  },
  {
   "cell_type": "code",
   "execution_count": 158,
   "id": "745d6e05-be71-40e1-80bd-a8362695f444",
   "metadata": {},
   "outputs": [],
   "source": [
    "i=i.upper()"
   ]
  },
  {
   "cell_type": "code",
   "execution_count": 160,
   "id": "9291f93d-eb93-41d2-89e7-72d48e5b4c15",
   "metadata": {},
   "outputs": [
    {
     "data": {
      "text/plain": [
       "'NIHAR VAGHELA'"
      ]
     },
     "execution_count": 160,
     "metadata": {},
     "output_type": "execute_result"
    }
   ],
   "source": [
    "i"
   ]
  },
  {
   "cell_type": "code",
   "execution_count": 164,
   "id": "fad8f6d4-b1ad-4256-902d-d678fea821d3",
   "metadata": {},
   "outputs": [
    {
     "data": {
      "text/plain": [
       "'Nihar Vaghela'"
      ]
     },
     "execution_count": 164,
     "metadata": {},
     "output_type": "execute_result"
    }
   ],
   "source": [
    "i.title()"
   ]
  },
  {
   "cell_type": "code",
   "execution_count": 168,
   "id": "78067266-58b3-413e-81e0-cedc1db31637",
   "metadata": {},
   "outputs": [],
   "source": [
    "i=i.title()"
   ]
  },
  {
   "cell_type": "code",
   "execution_count": 170,
   "id": "578a426f-3440-4a68-afdb-4da60345b0d2",
   "metadata": {},
   "outputs": [
    {
     "data": {
      "text/plain": [
       "'Nihar Vaghela'"
      ]
     },
     "execution_count": 170,
     "metadata": {},
     "output_type": "execute_result"
    }
   ],
   "source": [
    "i"
   ]
  },
  {
   "cell_type": "code",
   "execution_count": 172,
   "id": "d7699cb7-94f6-4bd9-8e5a-c25e34a036e9",
   "metadata": {},
   "outputs": [
    {
     "data": {
      "text/plain": [
       "'Nihar vaghela'"
      ]
     },
     "execution_count": 172,
     "metadata": {},
     "output_type": "execute_result"
    }
   ],
   "source": [
    "i.capitalize()"
   ]
  },
  {
   "cell_type": "code",
   "execution_count": 184,
   "id": "1ba8e440-c8ea-47d9-9b59-b7f8fde4f377",
   "metadata": {},
   "outputs": [],
   "source": [
    "K= \"NihAR VaGHelA\""
   ]
  },
  {
   "cell_type": "code",
   "execution_count": 188,
   "id": "c7633a80-7b9d-44b0-a315-3e5e25071056",
   "metadata": {},
   "outputs": [
    {
     "data": {
      "text/plain": [
       "'nIHar vAghELa'"
      ]
     },
     "execution_count": 188,
     "metadata": {},
     "output_type": "execute_result"
    }
   ],
   "source": [
    "K.swapcase()"
   ]
  },
  {
   "cell_type": "code",
   "execution_count": 190,
   "id": "22d04fc2-61f4-410e-af69-da5f9cb88cda",
   "metadata": {},
   "outputs": [
    {
     "data": {
      "text/plain": [
       "<reversed at 0x1e56b4e0dc0>"
      ]
     },
     "execution_count": 190,
     "metadata": {},
     "output_type": "execute_result"
    }
   ],
   "source": [
    "reversed(K)"
   ]
  },
  {
   "cell_type": "code",
   "execution_count": 194,
   "id": "64eeceab-8749-4479-b443-7c371826c528",
   "metadata": {},
   "outputs": [
    {
     "data": {
      "text/plain": [
       "'AleHGaV RAhiN'"
      ]
     },
     "execution_count": 194,
     "metadata": {},
     "output_type": "execute_result"
    }
   ],
   "source": [
    "\"\".join(reversed(K))"
   ]
  },
  {
   "cell_type": "code",
   "execution_count": 196,
   "id": "65a66aeb-3f01-4f7a-be1c-5ff6ef84a951",
   "metadata": {},
   "outputs": [
    {
     "data": {
      "text/plain": [
       "'AleHGaV RAhiN'"
      ]
     },
     "execution_count": 196,
     "metadata": {},
     "output_type": "execute_result"
    }
   ],
   "source": [
    "K[::-1]"
   ]
  },
  {
   "cell_type": "code",
   "execution_count": 204,
   "id": "94b9316b-5558-4122-ad6a-40e9d1f79e6f",
   "metadata": {},
   "outputs": [],
   "source": [
    "p=\"   Ni   h  AR    \""
   ]
  },
  {
   "cell_type": "code",
   "execution_count": 206,
   "id": "ee469dd1-5c4e-45ea-8dbd-92258e4d7938",
   "metadata": {},
   "outputs": [
    {
     "data": {
      "text/plain": [
       "'Ni   h  AR'"
      ]
     },
     "execution_count": 206,
     "metadata": {},
     "output_type": "execute_result"
    }
   ],
   "source": [
    "p.strip()"
   ]
  },
  {
   "cell_type": "code",
   "execution_count": 215,
   "id": "65294864-a058-4236-afce-6a471fbca4af",
   "metadata": {},
   "outputs": [
    {
     "data": {
      "text/plain": [
       "'Ni   h  AR    '"
      ]
     },
     "execution_count": 215,
     "metadata": {},
     "output_type": "execute_result"
    }
   ],
   "source": [
    "p.lstrip()"
   ]
  },
  {
   "cell_type": "code",
   "execution_count": 217,
   "id": "9c70d883-5161-48a7-9120-a6b290add50a",
   "metadata": {},
   "outputs": [
    {
     "data": {
      "text/plain": [
       "'   Ni   h  AR'"
      ]
     },
     "execution_count": 217,
     "metadata": {},
     "output_type": "execute_result"
    }
   ],
   "source": [
    "p.rstrip()"
   ]
  },
  {
   "cell_type": "code",
   "execution_count": 223,
   "id": "e6a951a0-3c30-4503-9630-e498a20df403",
   "metadata": {},
   "outputs": [
    {
     "data": {
      "text/plain": [
       "' XX XX XXNXXiXX XX XX XXhXX XX XXAXXRXX XX XX XX '"
      ]
     },
     "execution_count": 223,
     "metadata": {},
     "output_type": "execute_result"
    }
   ],
   "source": [
    "\"XX\".join(\"   Ni   h  AR    \")"
   ]
  },
  {
   "cell_type": "code",
   "execution_count": 225,
   "id": "c4e27bc9-3bf2-4aad-9c51-fb361152b49c",
   "metadata": {},
   "outputs": [
    {
     "data": {
      "text/plain": [
       "'Nihar Vaghela'"
      ]
     },
     "execution_count": 225,
     "metadata": {},
     "output_type": "execute_result"
    }
   ],
   "source": [
    "i"
   ]
  },
  {
   "cell_type": "code",
   "execution_count": 239,
   "id": "b84898e0-9459-444f-8fa5-6d5a873a3f05",
   "metadata": {},
   "outputs": [
    {
     "data": {
      "text/plain": [
       "'XXXXXXXXXNihar VaghelaXXXXXXXXX'"
      ]
     },
     "execution_count": 239,
     "metadata": {},
     "output_type": "execute_result"
    }
   ],
   "source": [
    "i.center(31,'X')"
   ]
  },
  {
   "cell_type": "code",
   "execution_count": 243,
   "id": "47523722-5745-43bb-8970-0caf065b2de4",
   "metadata": {},
   "outputs": [
    {
     "data": {
      "text/plain": [
       "False"
      ]
     },
     "execution_count": 243,
     "metadata": {},
     "output_type": "execute_result"
    }
   ],
   "source": [
    "i.isupper()"
   ]
  },
  {
   "cell_type": "code",
   "execution_count": 245,
   "id": "2a81affe-a9b3-4f31-bc80-10a99d1376e0",
   "metadata": {},
   "outputs": [
    {
     "data": {
      "text/plain": [
       "True"
      ]
     },
     "execution_count": 245,
     "metadata": {},
     "output_type": "execute_result"
    }
   ],
   "source": [
    "i.istitle()"
   ]
  },
  {
   "cell_type": "code",
   "execution_count": 247,
   "id": "40af7916-da4b-4070-a83f-fa04f1f8129b",
   "metadata": {},
   "outputs": [
    {
     "data": {
      "text/plain": [
       "False"
      ]
     },
     "execution_count": 247,
     "metadata": {},
     "output_type": "execute_result"
    }
   ],
   "source": [
    "i.isspace()"
   ]
  },
  {
   "cell_type": "code",
   "execution_count": 249,
   "id": "23bc429f-531c-4462-9944-b2e24af83c78",
   "metadata": {},
   "outputs": [],
   "source": [
    "q=\"   \""
   ]
  },
  {
   "cell_type": "code",
   "execution_count": 251,
   "id": "09649fd2-0030-4145-be66-0595dc74f9d2",
   "metadata": {},
   "outputs": [
    {
     "data": {
      "text/plain": [
       "'   '"
      ]
     },
     "execution_count": 251,
     "metadata": {},
     "output_type": "execute_result"
    }
   ],
   "source": [
    "q"
   ]
  },
  {
   "cell_type": "code",
   "execution_count": 253,
   "id": "d88bb0d5-7a92-407b-b1b2-3706f714d426",
   "metadata": {},
   "outputs": [
    {
     "data": {
      "text/plain": [
       "True"
      ]
     },
     "execution_count": 253,
     "metadata": {},
     "output_type": "execute_result"
    }
   ],
   "source": [
    "q.isspace()"
   ]
  },
  {
   "cell_type": "code",
   "execution_count": 255,
   "id": "aa9ea95e-0908-4854-bb8c-483e54ca4eaa",
   "metadata": {},
   "outputs": [
    {
     "data": {
      "text/plain": [
       "False"
      ]
     },
     "execution_count": 255,
     "metadata": {},
     "output_type": "execute_result"
    }
   ],
   "source": [
    "q.isdigit()"
   ]
  },
  {
   "cell_type": "code",
   "execution_count": 257,
   "id": "70c7c9dc-a273-4d34-b0ad-15909898475b",
   "metadata": {},
   "outputs": [],
   "source": [
    "n=\"67990\""
   ]
  },
  {
   "cell_type": "code",
   "execution_count": 259,
   "id": "99f96ff6-30a0-42bb-b3ae-0c74be20cf09",
   "metadata": {},
   "outputs": [
    {
     "data": {
      "text/plain": [
       "'67990'"
      ]
     },
     "execution_count": 259,
     "metadata": {},
     "output_type": "execute_result"
    }
   ],
   "source": [
    "n"
   ]
  },
  {
   "cell_type": "code",
   "execution_count": 261,
   "id": "4084643a-3ecd-4015-b232-9ce7a12f3717",
   "metadata": {},
   "outputs": [
    {
     "data": {
      "text/plain": [
       "True"
      ]
     },
     "execution_count": 261,
     "metadata": {},
     "output_type": "execute_result"
    }
   ],
   "source": [
    "n.isdigit()"
   ]
  },
  {
   "cell_type": "code",
   "execution_count": 267,
   "id": "6e268f06-5cf1-433e-b5e0-a08365bf6c97",
   "metadata": {},
   "outputs": [],
   "source": [
    "g=\"h8uh8h8u\""
   ]
  },
  {
   "cell_type": "code",
   "execution_count": 269,
   "id": "a5c8f72c-59c2-47a9-be18-b7feb964116b",
   "metadata": {},
   "outputs": [
    {
     "data": {
      "text/plain": [
       "'h8uh8h8u'"
      ]
     },
     "execution_count": 269,
     "metadata": {},
     "output_type": "execute_result"
    }
   ],
   "source": [
    "g"
   ]
  },
  {
   "cell_type": "code",
   "execution_count": 271,
   "id": "8587b25c-8131-44d0-ac07-e9b2b60ca639",
   "metadata": {},
   "outputs": [
    {
     "data": {
      "text/plain": [
       "True"
      ]
     },
     "execution_count": 271,
     "metadata": {},
     "output_type": "execute_result"
    }
   ],
   "source": [
    "g.isalnum()"
   ]
  },
  {
   "cell_type": "code",
   "execution_count": 273,
   "id": "3d1191b9-b0b0-452c-8e5a-0fb625e435bd",
   "metadata": {},
   "outputs": [
    {
     "data": {
      "text/plain": [
       "False"
      ]
     },
     "execution_count": 273,
     "metadata": {},
     "output_type": "execute_result"
    }
   ],
   "source": [
    "g.isalpha()"
   ]
  },
  {
   "cell_type": "code",
   "execution_count": 275,
   "id": "6d49c5ab-78c0-45ee-b6e6-011ddd2347f2",
   "metadata": {},
   "outputs": [
    {
     "data": {
      "text/plain": [
       "False"
      ]
     },
     "execution_count": 275,
     "metadata": {},
     "output_type": "execute_result"
    }
   ],
   "source": [
    "i.isalpha()"
   ]
  },
  {
   "cell_type": "code",
   "execution_count": 281,
   "id": "0362b6c0-b571-4763-99a8-7d47ff175be2",
   "metadata": {},
   "outputs": [
    {
     "data": {
      "text/plain": [
       "True"
      ]
     },
     "execution_count": 281,
     "metadata": {},
     "output_type": "execute_result"
    }
   ],
   "source": [
    "i.startswith('N')"
   ]
  },
  {
   "cell_type": "code",
   "execution_count": 285,
   "id": "d66678b8-6a33-4ae5-9a7a-7219d1006f6a",
   "metadata": {},
   "outputs": [
    {
     "data": {
      "text/plain": [
       "False"
      ]
     },
     "execution_count": 285,
     "metadata": {},
     "output_type": "execute_result"
    }
   ],
   "source": [
    "i.endswith('A')"
   ]
  },
  {
   "cell_type": "code",
   "execution_count": 287,
   "id": "aa777237-42e7-4e18-a20c-be3b5ca8a45a",
   "metadata": {},
   "outputs": [
    {
     "data": {
      "text/plain": [
       "False"
      ]
     },
     "execution_count": 287,
     "metadata": {},
     "output_type": "execute_result"
    }
   ],
   "source": [
    "i.isnumeric()"
   ]
  },
  {
   "cell_type": "code",
   "execution_count": 289,
   "id": "61679733-0005-40a9-8eff-667b8ad8fcb0",
   "metadata": {},
   "outputs": [
    {
     "data": {
      "text/plain": [
       "False"
      ]
     },
     "execution_count": 289,
     "metadata": {},
     "output_type": "execute_result"
    }
   ],
   "source": [
    "i.isdigit()"
   ]
  },
  {
   "cell_type": "code",
   "execution_count": 291,
   "id": "708306de-83ae-4ec4-b99b-588722e6e2b6",
   "metadata": {},
   "outputs": [
    {
     "data": {
      "text/plain": [
       "True"
      ]
     },
     "execution_count": 291,
     "metadata": {},
     "output_type": "execute_result"
    }
   ],
   "source": [
    "i.isascii()"
   ]
  },
  {
   "cell_type": "code",
   "execution_count": 297,
   "id": "1b77af15-d45c-488e-932e-29617cf6275a",
   "metadata": {},
   "outputs": [
    {
     "data": {
      "text/plain": [
       "1"
      ]
     },
     "execution_count": 297,
     "metadata": {},
     "output_type": "execute_result"
    }
   ],
   "source": [
    "i.count(\"Nih\")"
   ]
  },
  {
   "cell_type": "code",
   "execution_count": 299,
   "id": "95fff3cb-cb01-4c33-bd7c-7900b3aaf8ef",
   "metadata": {},
   "outputs": [
    {
     "data": {
      "text/plain": [
       "['Nih', 'r V', 'ghel', '']"
      ]
     },
     "execution_count": 299,
     "metadata": {},
     "output_type": "execute_result"
    }
   ],
   "source": [
    "i.split(\"a\")"
   ]
  },
  {
   "cell_type": "code",
   "execution_count": 301,
   "id": "3fb27a57-b6bd-48db-aad4-9d31e984feab",
   "metadata": {},
   "outputs": [
    {
     "data": {
      "text/plain": [
       "True"
      ]
     },
     "execution_count": 301,
     "metadata": {},
     "output_type": "execute_result"
    }
   ],
   "source": [
    "i.startswith(\"\")"
   ]
  },
  {
   "cell_type": "code",
   "execution_count": 303,
   "id": "a05333ff-d4cb-4096-9bca-82097a60c777",
   "metadata": {},
   "outputs": [
    {
     "data": {
      "text/plain": [
       "False"
      ]
     },
     "execution_count": 303,
     "metadata": {},
     "output_type": "execute_result"
    }
   ],
   "source": [
    "i.isalnum()"
   ]
  },
  {
   "cell_type": "code",
   "execution_count": 305,
   "id": "d3b8c202-6476-4181-bec0-6f5586f992dd",
   "metadata": {},
   "outputs": [],
   "source": [
    "i=\"NIHARVAGHELA\""
   ]
  },
  {
   "cell_type": "code",
   "execution_count": 307,
   "id": "d0926fcb-759e-406e-9d1e-5acabd0e53c0",
   "metadata": {},
   "outputs": [
    {
     "data": {
      "text/plain": [
       "'NIHARVAGHELA'"
      ]
     },
     "execution_count": 307,
     "metadata": {},
     "output_type": "execute_result"
    }
   ],
   "source": [
    "i"
   ]
  },
  {
   "cell_type": "code",
   "execution_count": 309,
   "id": "9c11b771-4924-417d-aeb2-a42e1114a0a9",
   "metadata": {},
   "outputs": [
    {
     "data": {
      "text/plain": [
       "True"
      ]
     },
     "execution_count": 309,
     "metadata": {},
     "output_type": "execute_result"
    }
   ],
   "source": [
    "i.isalnum()"
   ]
  },
  {
   "cell_type": "code",
   "execution_count": 315,
   "id": "c1eb653d-b752-43f5-b700-635f9d3b2413",
   "metadata": {},
   "outputs": [],
   "source": [
    "t=\"9890.888909\""
   ]
  },
  {
   "cell_type": "code",
   "execution_count": 321,
   "id": "dc5a899d-eae4-4540-a573-866996591669",
   "metadata": {},
   "outputs": [
    {
     "data": {
      "text/plain": [
       "False"
      ]
     },
     "execution_count": 321,
     "metadata": {},
     "output_type": "execute_result"
    }
   ],
   "source": [
    "t.isdigit()"
   ]
  },
  {
   "cell_type": "code",
   "execution_count": 323,
   "id": "849eb1e1-d24d-4bea-92b0-1fa674c53aac",
   "metadata": {},
   "outputs": [
    {
     "data": {
      "text/plain": [
       "False"
      ]
     },
     "execution_count": 323,
     "metadata": {},
     "output_type": "execute_result"
    }
   ],
   "source": [
    "t.isnumeric()"
   ]
  },
  {
   "cell_type": "code",
   "execution_count": 329,
   "id": "74968b03-1ac7-4586-afab-364f96931c26",
   "metadata": {},
   "outputs": [],
   "source": [
    "y=\"Nihar\\tVaghela\""
   ]
  },
  {
   "cell_type": "code",
   "execution_count": 331,
   "id": "892426dd-ea8b-48c6-acc6-5f4c3d853d84",
   "metadata": {},
   "outputs": [
    {
     "data": {
      "text/plain": [
       "'Nihar   Vaghela'"
      ]
     },
     "execution_count": 331,
     "metadata": {},
     "output_type": "execute_result"
    }
   ],
   "source": [
    "y.expandtabs()"
   ]
  },
  {
   "cell_type": "code",
   "execution_count": 47,
   "id": "d95d75da-9955-4d40-8b43-f26c26a7175f",
   "metadata": {},
   "outputs": [],
   "source": [
    "u=\"This is my first programming class & I'm learning python strings & it's concepts\""
   ]
  },
  {
   "cell_type": "code",
   "execution_count": 49,
   "id": "c3c56a58-a127-4911-8d67-ee5a167c818a",
   "metadata": {},
   "outputs": [
    {
     "data": {
      "text/plain": [
       "'h   r oai a I ai tntn isoes'"
      ]
     },
     "execution_count": 49,
     "metadata": {},
     "output_type": "execute_result"
    }
   ],
   "source": [
    "u[1:300:3]"
   ]
  },
  {
   "cell_type": "code",
   "execution_count": 409,
   "id": "098a1251-9e15-42d0-a2a1-28e92eadfd17",
   "metadata": {},
   "outputs": [
    {
     "data": {
      "text/plain": [
       "\"stpecnoc s'ti & sgnirts nohtyp gninrael m'I & ssalc gnimmargorp tsrif ym si sihT\""
      ]
     },
     "execution_count": 409,
     "metadata": {},
     "output_type": "execute_result"
    }
   ],
   "source": [
    "u[::-1]"
   ]
  },
  {
   "cell_type": "code",
   "execution_count": 417,
   "id": "f3bbae92-ee8f-4b8b-b8f5-e574a5432338",
   "metadata": {},
   "outputs": [
    {
     "data": {
      "text/plain": [
       "\"THIS IS MY FIRST PROGRAMMING CLASS & I'M LEARNING PYTHON STRINGS & IT'S CONCEPTS\""
      ]
     },
     "execution_count": 417,
     "metadata": {},
     "output_type": "execute_result"
    }
   ],
   "source": [
    "u.upper()"
   ]
  },
  {
   "cell_type": "code",
   "execution_count": 421,
   "id": "b34f6140-d9b4-48db-b5d6-74a12f1eac3f",
   "metadata": {},
   "outputs": [],
   "source": [
    "u=u.upper()"
   ]
  },
  {
   "cell_type": "code",
   "execution_count": 423,
   "id": "06963695-a7a3-4f22-b4d6-db780a51ec47",
   "metadata": {},
   "outputs": [
    {
     "data": {
      "text/plain": [
       "['THIS',\n",
       " 'IS',\n",
       " 'MY',\n",
       " 'FIRST',\n",
       " 'PROGRAMMING',\n",
       " 'CLASS',\n",
       " '&',\n",
       " \"I'M\",\n",
       " 'LEARNING',\n",
       " 'PYTHON',\n",
       " 'STRINGS',\n",
       " '&',\n",
       " \"IT'S\",\n",
       " 'CONCEPTS']"
      ]
     },
     "execution_count": 423,
     "metadata": {},
     "output_type": "execute_result"
    }
   ],
   "source": [
    "u.split(\" \")"
   ]
  },
  {
   "cell_type": "code",
   "execution_count": 425,
   "id": "fcbdae0c-c7f6-4bf5-bfa6-fd08194560c5",
   "metadata": {},
   "outputs": [
    {
     "data": {
      "text/plain": [
       "\"this is my first programming class & i'm learning python strings & it's concepts\""
      ]
     },
     "execution_count": 425,
     "metadata": {},
     "output_type": "execute_result"
    }
   ],
   "source": [
    "u.lower()"
   ]
  },
  {
   "cell_type": "code",
   "execution_count": 431,
   "id": "6362e818-f950-4775-821f-0744826f736b",
   "metadata": {},
   "outputs": [],
   "source": [
    "u=u.capitalize()"
   ]
  },
  {
   "cell_type": "code",
   "execution_count": 433,
   "id": "aaa68f56-4d98-483b-9d6d-9e1d9953b598",
   "metadata": {},
   "outputs": [
    {
     "data": {
      "text/plain": [
       "\"This is my first programming class & i'm learning python strings & it's concepts\""
      ]
     },
     "execution_count": 433,
     "metadata": {},
     "output_type": "execute_result"
    }
   ],
   "source": [
    "u"
   ]
  },
  {
   "cell_type": "code",
   "execution_count": 441,
   "id": "90637239-f33b-4c84-b4a6-bfa984781cc3",
   "metadata": {},
   "outputs": [],
   "source": [
    "u=\"THIS\\tIS\\tMY\\tFIRST\\tPROGRAMMING\\tCLASS\\t&\\tI'M\\tLEARNING\\tSTRING\\tCONCEPTS\""
   ]
  },
  {
   "cell_type": "code",
   "execution_count": 443,
   "id": "7768acf9-daba-4e2b-9257-6b8f9fbdbb5d",
   "metadata": {},
   "outputs": [
    {
     "data": {
      "text/plain": [
       "\"THIS    IS      MY      FIRST   PROGRAMMING     CLASS   &       I'M     LEARNING        STRING  CONCEPTS\""
      ]
     },
     "execution_count": 443,
     "metadata": {},
     "output_type": "execute_result"
    }
   ],
   "source": [
    "u.expandtabs()"
   ]
  },
  {
   "cell_type": "code",
   "execution_count": 445,
   "id": "d016184c-e7c8-484d-a453-3aa8b8f490e4",
   "metadata": {},
   "outputs": [],
   "source": [
    "o=\"   N  iha  r   Vaghe la  \""
   ]
  },
  {
   "cell_type": "code",
   "execution_count": 447,
   "id": "208140fb-c053-41ff-aa6d-f221b99d4da4",
   "metadata": {},
   "outputs": [
    {
     "data": {
      "text/plain": [
       "'N  iha  r   Vaghe la'"
      ]
     },
     "execution_count": 447,
     "metadata": {},
     "output_type": "execute_result"
    }
   ],
   "source": [
    "o.strip()"
   ]
  },
  {
   "cell_type": "code",
   "execution_count": 379,
   "id": "035cadf6-3d85-4b43-b274-5b7734013f5c",
   "metadata": {},
   "outputs": [
    {
     "data": {
      "text/plain": [
       "'N  iha  r   Vaghe la  '"
      ]
     },
     "execution_count": 379,
     "metadata": {},
     "output_type": "execute_result"
    }
   ],
   "source": [
    "o.lstrip()"
   ]
  },
  {
   "cell_type": "code",
   "execution_count": 381,
   "id": "67600aff-656b-4f35-97b5-22b536a11640",
   "metadata": {},
   "outputs": [
    {
     "data": {
      "text/plain": [
       "'   N  iha  r   Vaghe la'"
      ]
     },
     "execution_count": 381,
     "metadata": {},
     "output_type": "execute_result"
    }
   ],
   "source": [
    "o.rstrip()"
   ]
  },
  {
   "cell_type": "code",
   "execution_count": 389,
   "id": "a5eabc83-fbac-449c-9e8a-45a072c27db1",
   "metadata": {},
   "outputs": [
    {
     "data": {
      "text/plain": [
       "'XXXXXXNXXXXihaXXXXrXXXXXXVagheXXlaXXXX'"
      ]
     },
     "execution_count": 389,
     "metadata": {},
     "output_type": "execute_result"
    }
   ],
   "source": [
    "o.replace(\" \",\"XX\")"
   ]
  },
  {
   "cell_type": "code",
   "execution_count": 459,
   "id": "f0937b49-aaba-48e5-8d09-9559acd1817d",
   "metadata": {},
   "outputs": [
    {
     "data": {
      "text/plain": [
       "'PP   N  iha  r   Vaghe la  PPP'"
      ]
     },
     "execution_count": 459,
     "metadata": {},
     "output_type": "execute_result"
    }
   ],
   "source": [
    "o.center(30,\"P\")"
   ]
  },
  {
   "cell_type": "code",
   "execution_count": 461,
   "id": "c564d046-9d38-4a73-8196-31ce9eef0a4f",
   "metadata": {},
   "outputs": [],
   "source": [
    "h=\"\\t\""
   ]
  },
  {
   "cell_type": "code",
   "execution_count": 463,
   "id": "e3e1b4f0-3f70-4c41-9332-f231752f15db",
   "metadata": {},
   "outputs": [
    {
     "data": {
      "text/plain": [
       "True"
      ]
     },
     "execution_count": 463,
     "metadata": {},
     "output_type": "execute_result"
    }
   ],
   "source": [
    "h.isspace()"
   ]
  }
 ],
 "metadata": {
  "kernelspec": {
   "display_name": "Python 3 (ipykernel)",
   "language": "python",
   "name": "python3"
  },
  "language_info": {
   "codemirror_mode": {
    "name": "ipython",
    "version": 3
   },
   "file_extension": ".py",
   "mimetype": "text/x-python",
   "name": "python",
   "nbconvert_exporter": "python",
   "pygments_lexer": "ipython3",
   "version": "3.12.7"
  }
 },
 "nbformat": 4,
 "nbformat_minor": 5
}
